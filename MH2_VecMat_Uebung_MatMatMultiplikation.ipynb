{
 "cells": [
  {
   "cell_type": "markdown",
   "metadata": {},
   "source": [
    "# Unendliches Übungsblatt zur Matrix-Matrix-Multiplikation\n",
    "_zum Kapitel 8.2 im Kurs MH2 im WS20_\n",
    "\n",
    "### Zweck\n",
    "Mit diesem Notebook soll (etwas stupide) das Matrix-Matrix-Produkt geübt werden:\n",
    "$$A \\cdot B$$\n",
    "\n",
    "### Anleitung\n",
    "* Um neue Aufgaben zu generieren: `Cell` $\\rightarrow$ `Run all` im Menü wählen\n",
    "* Sie können in der erste Zelle die Anzahl der Aufgaben, maximale Spalten- und Zeilenanzahl sowie den Bereich der möglichen Zahlenwerte verändern\n",
    "* Die Aufgaben erscheinen als Ausgabe der 2. Zelle, die Lösung als Ausgabe der 3. Zelle darunter\n",
    "* Die Formatierung der Matrizen ist mit den vielen eckigen Klammern etwas unschön, aber ich denke verständlich..."
   ]
  },
  {
   "cell_type": "code",
   "execution_count": 1,
   "metadata": {},
   "outputs": [],
   "source": [
    "# Wieviel Aufgaben wollen Sie?\n",
    "Anzahl = 3\n",
    "\n",
    "# hier kann man maximale Spalten- bzw. Zeilenzahl (n) der Matrizen festlegen\n",
    "max_dim = 3 # sollte > 1 sein\n",
    "\n",
    "# Bereich der Zahlenwerte in der Aufgabe?\n",
    "min_zahl = -5  # Wollen Sie keine negativen Zahlen, setzen Sie diesen Wert auf 0\n",
    "max_zahl = +5"
   ]
  },
  {
   "cell_type": "code",
   "execution_count": 2,
   "metadata": {
    "scrolled": false
   },
   "outputs": [
    {
     "name": "stdout",
     "output_type": "stream",
     "text": [
      "Aufgabe Nr. 1\n",
      " Matrix A:\n",
      " [[-5  2  1]\n",
      " [ 1  0  1]\n",
      " [-2  4  4]]\n",
      " Matrix B:\n",
      " [[-2 -1]\n",
      " [-4 -4]\n",
      " [-3 -2]]\n",
      "----------------\n",
      "Aufgabe Nr. 2\n",
      " Matrix A:\n",
      " [[ 2  2]\n",
      " [ 1  3]\n",
      " [ 0 -5]]\n",
      " Matrix B:\n",
      " [[ 3 -5 -3]\n",
      " [ 0  1  3]]\n",
      "----------------\n",
      "Aufgabe Nr. 3\n",
      " Matrix A:\n",
      " [[ 3 -4  4]\n",
      " [ 1 -3  0]]\n",
      " Matrix B:\n",
      " [[-5  3]\n",
      " [-3 -5]\n",
      " [-4 -4]]\n",
      "----------------\n"
     ]
    }
   ],
   "source": [
    "# ab hier nix verändern\n",
    "import numpy as np\n",
    "\n",
    "Loesungen = []\n",
    "for k in range(Anzahl):\n",
    "    print('Aufgabe Nr.', k+1)\n",
    "    \n",
    "    n = np.random.randint(2, max_dim+1)\n",
    "    m = np.random.randint(2, max_dim+1)\n",
    "    k = np.random.randint(2, max_dim+1)\n",
    "    \n",
    "    A = np.random.randint(min_zahl,max_zahl,[n,m])\n",
    "    B = np.random.randint(min_zahl,max_zahl,[m,k])\n",
    "    \n",
    "    Loesungen.append(np.matmul(A,B))\n",
    "    print(' Matrix A:')\n",
    "    print('', A)\n",
    "\n",
    "    print(' Matrix B:')\n",
    "    print('',B)\n",
    "    print('----------------')"
   ]
  },
  {
   "cell_type": "markdown",
   "metadata": {},
   "source": [
    "## Lösungen"
   ]
  },
  {
   "cell_type": "code",
   "execution_count": 3,
   "metadata": {},
   "outputs": [
    {
     "name": "stdout",
     "output_type": "stream",
     "text": [
      "Lösung zu Aufgabe Nr. 1\n",
      " A*B =\n",
      " [[ -1  -5]\n",
      " [ -5  -3]\n",
      " [-24 -22]]\n",
      "----------------\n",
      "Lösung zu Aufgabe Nr. 2\n",
      " A*B =\n",
      " [[  6  -8   0]\n",
      " [  3  -2   6]\n",
      " [  0  -5 -15]]\n",
      "----------------\n",
      "Lösung zu Aufgabe Nr. 3\n",
      " A*B =\n",
      " [[-19  13]\n",
      " [  4  18]]\n",
      "----------------\n"
     ]
    }
   ],
   "source": [
    "for k in range(Anzahl):\n",
    "    print('Lösung zu Aufgabe Nr.', k+1)\n",
    "    print(' A*B =')\n",
    "    print('', Loesungen[k])\n",
    "    print('----------------')"
   ]
  }
 ],
 "metadata": {
  "kernelspec": {
   "display_name": "Python 3",
   "language": "python",
   "name": "python3"
  },
  "language_info": {
   "codemirror_mode": {
    "name": "ipython",
    "version": 3
   },
   "file_extension": ".py",
   "mimetype": "text/x-python",
   "name": "python",
   "nbconvert_exporter": "python",
   "pygments_lexer": "ipython3",
   "version": "3.7.6"
  }
 },
 "nbformat": 4,
 "nbformat_minor": 4
}
