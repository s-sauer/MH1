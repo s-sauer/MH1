{
 "cells": [
  {
   "cell_type": "markdown",
   "metadata": {},
   "source": [
    "# Unendliches Übungsblatt zur Matrix-Vektor-Multiplikation\n",
    "_zum Kapitel 8.2 im Kurs MH2 im WS20_\n",
    "\n",
    "### Zweck\n",
    "Mit diesem Notebook soll (etwas stupide) das Matrix-Vektor-Produkt geübt werden:\n",
    "$$A \\cdot \\vec x$$\n",
    "\n",
    "### Anleitung\n",
    "* Um neue Aufgaben zu generieren: `Cell` $\\rightarrow$ `Run all` im Menü wählen\n",
    "* Sie können in der erste Zelle die Anzahl der Aufgaben, maximale Spalten- und Zeilenanzahl sowie den Bereich der möglichen Zahlenwerte verändern\n",
    "* Die Aufgaben erscheinen als Ausgabe der 2. Zelle, die Lösung als Ausgabe der 3. Zelle darunter\n",
    "* Die Formatierung von Matrix und Vektor ist mit den vielen eckigen Klammern etwas unschön, aber ich denke verständlich..."
   ]
  },
  {
   "cell_type": "code",
   "execution_count": 10,
   "metadata": {},
   "outputs": [],
   "source": [
    "# Wieviel Aufgaben wollen Sie?\n",
    "Anzahl = 3\n",
    "\n",
    "# hier kann man maximale Spalten- (m) und Zeilenzahl (n) der Matrix festlegen\n",
    "max_m = 4 # sollte > 1 sein\n",
    "max_n = 4 # sollte > 1 sein\n",
    "\n",
    "# Bereich der Zahlenwerte in der Aufgabe?\n",
    "min_zahl = -5  # Wollen Sie keine negativen Zahlen, setzen Sie diesen Wert auf 0\n",
    "max_zahl = +5"
   ]
  },
  {
   "cell_type": "code",
   "execution_count": 11,
   "metadata": {
    "scrolled": false
   },
   "outputs": [
    {
     "name": "stdout",
     "output_type": "stream",
     "text": [
      "Aufgabe Nr. 1\n",
      " Matrix A:\n",
      " [[-2  3 -2 -3]\n",
      " [ 3 -3  0 -4]\n",
      " [ 0  3  2  0]\n",
      " [ 1 -4 -5 -1]]\n",
      " Vektor x:\n",
      " [[1]\n",
      " [4]\n",
      " [2]\n",
      " [2]]\n",
      "----------------\n",
      "Aufgabe Nr. 2\n",
      " Matrix A:\n",
      " [[ 2  0 -1  3]\n",
      " [-4 -4  1 -1]\n",
      " [ 1  1  3 -5]]\n",
      " Vektor x:\n",
      " [[-1]\n",
      " [-3]\n",
      " [-4]\n",
      " [-3]]\n",
      "----------------\n",
      "Aufgabe Nr. 3\n",
      " Matrix A:\n",
      " [[-1  0]\n",
      " [ 0  4]]\n",
      " Vektor x:\n",
      " [[1]\n",
      " [4]]\n",
      "----------------\n"
     ]
    }
   ],
   "source": [
    "# ab hier nix verändern\n",
    "import numpy as np\n",
    "\n",
    "Loesungen = []\n",
    "for k in range(Anzahl):\n",
    "    print('Aufgabe Nr.', k+1)\n",
    "    \n",
    "    n = np.random.randint(2, max_n+1)\n",
    "    m = np.random.randint(2, max_m+1)\n",
    "    A = np.random.randint(min_zahl,max_zahl,[n,m])\n",
    "    x = np.random.randint(min_zahl,max_zahl,[m,1])\n",
    "    \n",
    "    Loesungen.append(np.matmul(A,x))\n",
    "    print(' Matrix A:')\n",
    "    print('', A)\n",
    "\n",
    "    print(' Vektor x:')\n",
    "    print('',x)\n",
    "    print('----------------')"
   ]
  },
  {
   "cell_type": "markdown",
   "metadata": {},
   "source": [
    "## Lösungen"
   ]
  },
  {
   "cell_type": "code",
   "execution_count": 12,
   "metadata": {},
   "outputs": [
    {
     "name": "stdout",
     "output_type": "stream",
     "text": [
      "Lösung zu Aufgabe Nr. 1\n",
      " A*x =\n",
      " [[  0]\n",
      " [-17]\n",
      " [ 16]\n",
      " [-27]]\n",
      "----------------\n",
      "Lösung zu Aufgabe Nr. 2\n",
      " A*x =\n",
      " [[-7]\n",
      " [15]\n",
      " [-1]]\n",
      "----------------\n",
      "Lösung zu Aufgabe Nr. 3\n",
      " A*x =\n",
      " [[-1]\n",
      " [16]]\n",
      "----------------\n"
     ]
    }
   ],
   "source": [
    "for k in range(Anzahl):\n",
    "    print('Lösung zu Aufgabe Nr.', k+1)\n",
    "    print(' A*x =')\n",
    "    print('', Loesungen[k])\n",
    "    print('----------------')"
   ]
  }
 ],
 "metadata": {
  "kernelspec": {
   "display_name": "Python 3",
   "language": "python",
   "name": "python3"
  },
  "language_info": {
   "codemirror_mode": {
    "name": "ipython",
    "version": 3
   },
   "file_extension": ".py",
   "mimetype": "text/x-python",
   "name": "python",
   "nbconvert_exporter": "python",
   "pygments_lexer": "ipython3",
   "version": "3.7.6"
  }
 },
 "nbformat": 4,
 "nbformat_minor": 4
}
