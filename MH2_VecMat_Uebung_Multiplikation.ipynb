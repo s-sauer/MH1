{
 "cells": [
  {
   "cell_type": "markdown",
   "metadata": {},
   "source": [
    "# Unendliches Übungsblatt zur Matrix-Vektor-Multiplikation\n",
    "_zum Kapitel 8.2 im Kurs MH2 im WS20_\n",
    "\n",
    "### Zweck\n",
    "Mit diesem Notebook soll (etwas stupide) das Matrix-Vektor-Produkt geübt werden:\n",
    "$$A \\cdot \\vec x$$\n",
    "\n",
    "### Anleitung\n",
    "* Um neue Aufgaben zu generieren: `Cell` $\\rightarrow$ `Run all` im Menü wählen\n",
    "* Die Aufgaben erscheinen als Ausgabe der 2. Zelle, die Lösungen als Ausgabe der 3. Zelle darunter\n",
    "* Bei Bedarf können Sie den Schwierigkeitsgrad der Aufgaben über die Argumente der Funktion `gen_A_x_b` in der 1. Zelle wie folgt anpassen:\n",
    "    * `Anzahl` Wieviel Aufgaben wollen Sie?\n",
    "    * `max_m`  Wieviel Spalten soll die Matrix höchstens haben?\n",
    "    * `max_n`  Wieviel Zeilen soll die Matrix höchstens haben?\n",
    "    * `min_wert`  Kleinstmöglicher Zahlenwert in der Aufgabe (Wollen Sie z.B. keine negativen Zahlen, setzen Sie `min_wert=0`)\n",
    "    * `max_wert`  Größtmöglicher Zahlenwert in der Aufgabe\n",
    "\n",
    "\n"
   ]
  },
  {
   "cell_type": "code",
   "execution_count": 1,
   "metadata": {},
   "outputs": [],
   "source": [
    "from auxfuncs import *\n",
    "A_x_b_dict = gen_A_x_b(Anzahl = 3, max_m = 4, max_n = 4, min_zahl = -5, max_zahl = +5)"
   ]
  },
  {
   "cell_type": "markdown",
   "metadata": {},
   "source": [
    "## Aufgaben"
   ]
  },
  {
   "cell_type": "code",
   "execution_count": 2,
   "metadata": {},
   "outputs": [
    {
     "name": "stdout",
     "output_type": "stream",
     "text": [
      "Aufgabe Nr. 1\n"
     ]
    },
    {
     "data": {
      "text/latex": [
       "\\begin{eqnarray}\\begin{pmatrix}\n",
       "  -4 & 1\\\\\n",
       "  -2 & 3\\\\\n",
       "  2 & 4\\\\\n",
       "  -1 & 1\\\\\n",
       "\\end{pmatrix}\\cdot\\begin{pmatrix}\n",
       "  2\\\\\n",
       "  3\\\\\n",
       "\\end{pmatrix}=?\\end{eqnarray}"
      ],
      "text/plain": [
       "<IPython.core.display.Latex object>"
      ]
     },
     "metadata": {},
     "output_type": "display_data"
    },
    {
     "name": "stdout",
     "output_type": "stream",
     "text": [
      "Aufgabe Nr. 2\n"
     ]
    },
    {
     "data": {
      "text/latex": [
       "\\begin{eqnarray}\\begin{pmatrix}\n",
       "  4 & 3 & 3 & -5\\\\\n",
       "  3 & -3 & -5 & 3\\\\\n",
       "\\end{pmatrix}\\cdot\\begin{pmatrix}\n",
       "  1\\\\\n",
       "  -1\\\\\n",
       "  -5\\\\\n",
       "  0\\\\\n",
       "\\end{pmatrix}=?\\end{eqnarray}"
      ],
      "text/plain": [
       "<IPython.core.display.Latex object>"
      ]
     },
     "metadata": {},
     "output_type": "display_data"
    },
    {
     "name": "stdout",
     "output_type": "stream",
     "text": [
      "Aufgabe Nr. 3\n"
     ]
    },
    {
     "data": {
      "text/latex": [
       "\\begin{eqnarray}\\begin{pmatrix}\n",
       "  -3 & -3 & 0\\\\\n",
       "  -5 & 4 & -1\\\\\n",
       "\\end{pmatrix}\\cdot\\begin{pmatrix}\n",
       "  -4\\\\\n",
       "  -4\\\\\n",
       "  -2\\\\\n",
       "\\end{pmatrix}=?\\end{eqnarray}"
      ],
      "text/plain": [
       "<IPython.core.display.Latex object>"
      ]
     },
     "metadata": {},
     "output_type": "display_data"
    }
   ],
   "source": [
    "print_A_x_b(A_x_b_dict, with_solution=False)"
   ]
  },
  {
   "cell_type": "markdown",
   "metadata": {},
   "source": [
    "<br>\n",
    "<br>\n",
    "<br>\n",
    "<br>\n",
    "<br>\n",
    "<br>\n",
    "<br>\n",
    "<br>\n",
    "<br>\n",
    "\n",
    "## Lösungen"
   ]
  },
  {
   "cell_type": "code",
   "execution_count": 3,
   "metadata": {},
   "outputs": [
    {
     "name": "stdout",
     "output_type": "stream",
     "text": [
      "Lösung zu Aufgabe Nr. 1\n"
     ]
    },
    {
     "data": {
      "text/latex": [
       "\\begin{eqnarray}\\begin{pmatrix}\n",
       "  -4 & 1\\\\\n",
       "  -2 & 3\\\\\n",
       "  2 & 4\\\\\n",
       "  -1 & 1\\\\\n",
       "\\end{pmatrix}\\cdot\\begin{pmatrix}\n",
       "  2\\\\\n",
       "  3\\\\\n",
       "\\end{pmatrix}=\\begin{pmatrix}\n",
       "  -5\\\\\n",
       "  5\\\\\n",
       "  16\\\\\n",
       "  1\\\\\n",
       "\\end{pmatrix}\\end{eqnarray}"
      ],
      "text/plain": [
       "<IPython.core.display.Latex object>"
      ]
     },
     "metadata": {},
     "output_type": "display_data"
    },
    {
     "name": "stdout",
     "output_type": "stream",
     "text": [
      "Lösung zu Aufgabe Nr. 2\n"
     ]
    },
    {
     "data": {
      "text/latex": [
       "\\begin{eqnarray}\\begin{pmatrix}\n",
       "  4 & 3 & 3 & -5\\\\\n",
       "  3 & -3 & -5 & 3\\\\\n",
       "\\end{pmatrix}\\cdot\\begin{pmatrix}\n",
       "  1\\\\\n",
       "  -1\\\\\n",
       "  -5\\\\\n",
       "  0\\\\\n",
       "\\end{pmatrix}=\\begin{pmatrix}\n",
       "  -14\\\\\n",
       "  31\\\\\n",
       "\\end{pmatrix}\\end{eqnarray}"
      ],
      "text/plain": [
       "<IPython.core.display.Latex object>"
      ]
     },
     "metadata": {},
     "output_type": "display_data"
    },
    {
     "name": "stdout",
     "output_type": "stream",
     "text": [
      "Lösung zu Aufgabe Nr. 3\n"
     ]
    },
    {
     "data": {
      "text/latex": [
       "\\begin{eqnarray}\\begin{pmatrix}\n",
       "  -3 & -3 & 0\\\\\n",
       "  -5 & 4 & -1\\\\\n",
       "\\end{pmatrix}\\cdot\\begin{pmatrix}\n",
       "  -4\\\\\n",
       "  -4\\\\\n",
       "  -2\\\\\n",
       "\\end{pmatrix}=\\begin{pmatrix}\n",
       "  24\\\\\n",
       "  6\\\\\n",
       "\\end{pmatrix}\\end{eqnarray}"
      ],
      "text/plain": [
       "<IPython.core.display.Latex object>"
      ]
     },
     "metadata": {},
     "output_type": "display_data"
    }
   ],
   "source": [
    "print_A_x_b(A_x_b_dict, with_solution=True)"
   ]
  }
 ],
 "metadata": {
  "interpreter": {
   "hash": "01da3e92184f855baee79aee4095f9eaf286d7f3cd3041cddfb50dc3e6722963"
  },
  "kernelspec": {
   "display_name": "Python 3 (ipykernel)",
   "language": "python",
   "name": "python3"
  },
  "language_info": {
   "codemirror_mode": {
    "name": "ipython",
    "version": 3
   },
   "file_extension": ".py",
   "mimetype": "text/x-python",
   "name": "python",
   "nbconvert_exporter": "python",
   "pygments_lexer": "ipython3",
   "version": "3.8.10"
  }
 },
 "nbformat": 4,
 "nbformat_minor": 4
}
