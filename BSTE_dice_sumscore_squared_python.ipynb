{
 "cells": [
  {
   "cell_type": "markdown",
   "metadata": {},
   "source": [
    "# Simulation of squared sum score $S^2$ of $n$ dice"
   ]
  },
  {
   "cell_type": "markdown",
   "metadata": {},
   "source": [
    "### 1. Import `numpy` and `matplotlib` library"
   ]
  },
  {
   "cell_type": "code",
   "execution_count": 1,
   "metadata": {},
   "outputs": [],
   "source": [
    "import numpy as np  # for basic math and random number generation\n",
    "import matplotlib.pyplot as plt # for plotting"
   ]
  },
  {
   "cell_type": "markdown",
   "metadata": {},
   "source": [
    "### 2. Set $n$ (no. of dice) and $M$ (no. of samples)"
   ]
  },
  {
   "cell_type": "code",
   "execution_count": 2,
   "metadata": {},
   "outputs": [],
   "source": [
    "n = 12 # no of dice\n",
    "M = int(1e6) # no of samples (\"Monte-Carlo runs\")"
   ]
  },
  {
   "cell_type": "markdown",
   "metadata": {},
   "source": [
    "### 3. Generate $M$ random samples of $n$ dice"
   ]
  },
  {
   "cell_type": "code",
   "execution_count": 3,
   "metadata": {},
   "outputs": [
    {
     "data": {
      "text/plain": [
       "array([[5, 4, 1, ..., 3, 5, 4],\n",
       "       [2, 6, 1, ..., 1, 6, 3],\n",
       "       [5, 3, 3, ..., 2, 1, 5],\n",
       "       ...,\n",
       "       [6, 1, 3, ..., 6, 6, 1],\n",
       "       [1, 3, 2, ..., 5, 1, 5],\n",
       "       [4, 6, 2, ..., 4, 2, 3]])"
      ]
     },
     "metadata": {},
     "output_type": "display_data"
    }
   ],
   "source": [
    "dat = np.random.randint(6, size=(M, n)) + 1 # add 1, because random numbers are in {0, 1, ..., 5}\n",
    "display(dat)"
   ]
  },
  {
   "cell_type": "markdown",
   "metadata": {},
   "source": [
    "### 4. Calculate sum score $S$ and its square $S^2$ for each sample"
   ]
  },
  {
   "cell_type": "code",
   "execution_count": 4,
   "metadata": {},
   "outputs": [],
   "source": [
    "S = dat.sum(axis=1)\n",
    "S2 = np.multiply(S, S)"
   ]
  },
  {
   "cell_type": "markdown",
   "metadata": {},
   "source": [
    "### 5. Plot distribution"
   ]
  },
  {
   "cell_type": "code",
   "execution_count": 5,
   "metadata": {},
   "outputs": [
    {
     "data": {
      "text/plain": [
       "Text(0.5, 1.0, 'Histogram of sum score S')"
      ]
     },
     "execution_count": 5,
     "metadata": {},
     "output_type": "execute_result"
    },
    {
     "data": {
      "image/png": "[encoded data removed]",
      "text/plain": [
       "<Figure size 432x288 with 1 Axes>"
      ]
     },
     "metadata": {
      "needs_background": "light"
     },
     "output_type": "display_data"
    }
   ],
   "source": [
    "plt.hist(S, density = True, bins=np.arange(S.min(), S.max()+1))\n",
    "plt.title('Histogram of sum score S')"
   ]
  },
  {
   "cell_type": "code",
   "execution_count": 6,
   "metadata": {},
   "outputs": [
    {
     "data": {
      "text/plain": [
       "Text(0.5, 1.0, 'Histogram of squared sum score $S^2$')"
      ]
     },
     "execution_count": 6,
     "metadata": {},
     "output_type": "execute_result"
    },
    {
     "data": {
      "image/png": "[encoded data removed]",
      "text/plain": [
       "<Figure size 432x288 with 1 Axes>"
      ]
     },
     "metadata": {
      "needs_background": "light"
     },
     "output_type": "display_data"
    }
   ],
   "source": [
    "plt.hist(S2, density = True, bins=np.arange(S2.min(), S2.max()+1, 50))\n",
    "plt.title('Histogram of squared sum score $S^2$')"
   ]
  },
  {
   "cell_type": "markdown",
   "metadata": {},
   "source": [
    "### 6. Calculate mean values $\\bar{S}$ and $\\bar{S^2}$ and compare to expected values $\\mathbb{E}(S)$ and $\\mathbb{E}(S^2)$"
   ]
  },
  {
   "cell_type": "code",
   "execution_count": 7,
   "metadata": {},
   "outputs": [
    {
     "name": "stdout",
     "output_type": "stream",
     "text": [
      "Mean of S   = 42.001402; cp. with expected value = 42.0\n",
      "Mean of S^2 = 1799.079366; cp. with expected value = 1799.0\n"
     ]
    }
   ],
   "source": [
    "mean_S  = np.mean(S)\n",
    "mean_S2 = np.mean(S2)\n",
    "E_S  = n*7/2\n",
    "E_S2 = n*91/6 + n*(n-1)*49/4\n",
    "Var_S = E_S2 - E_S**2\n",
    "print('Mean of S   = {}; cp. with expected value = {}'.format(mean_S , E_S))\n",
    "#print('Standard error of mean (of S) = {}'.format(np.sqrt(Var_S/M))\n",
    "print('Mean of S^2 = {}; cp. with expected value = {}'.format(mean_S2, E_S2))"
   ]
  }
 ],
 "metadata": {
  "interpreter": {
   "hash": "01da3e92184f855baee79aee4095f9eaf286d7f3cd3041cddfb50dc3e6722963"
  },
  "kernelspec": {
   "display_name": "R",
   "language": "python",
   "name": "python3"
  },
  "language_info": {
   "codemirror_mode": {
    "name": "ipython",
    "version": 3
   },
   "file_extension": ".py",
   "mimetype": "text/x-python",
   "name": "python",
   "nbconvert_exporter": "python",
   "pygments_lexer": "ipython3",
   "version": "3.8.10"
  }
 },
 "nbformat": 4,
 "nbformat_minor": 2
}
