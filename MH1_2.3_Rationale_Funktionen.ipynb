{
 "cells": [
  {
   "cell_type": "markdown",
   "metadata": {
    "slideshow": {
     "slide_type": "slide"
    }
   },
   "source": [
    "# 2.3 Rationale Funktionen"
   ]
  },
  {
   "cell_type": "markdown",
   "metadata": {},
   "source": [
    "#### Allgemein\n",
    "\n",
    "Reelle Funktionen mit Funktionsvorschrift $f(x)$ heißen\n",
    "* *Rationale Funktion*, falls\n",
    "  \\begin{equation}f(x) = \\frac{a_m x^m + \\dots  + a_1 x + a_0}{b_n x^n + \\dots + b_1 x + b_0}\\end{equation}\n",
    "\n",
    "* *Ganzrationale Funktion (Polynomfunktion)*, falls\n",
    "  \\begin{equation}f(x) = a_m x^m + a_{m-1}x^{m-1} + \\dots + a_2 x^2 +a_1 x + a_0\\end{equation}\n",
    "  \n",
    "* *Gebrochenrationale Funktion*, falls\n",
    "  * die Funktion rational ist und\n",
    "  * das Nennerpolynom keine Konstante ist, also $n>0$\n",
    "\n",
    "**Folgerung**\n",
    "\n",
    "Jede *rationale Funktion* ist entweder *ganzrational* ($n=0$) oder *gebrochenrational* ($n>0$)."
   ]
  },
  {
   "cell_type": "markdown",
   "metadata": {
    "slideshow": {
     "slide_type": "slide"
    }
   },
   "source": [
    "## 2.3.1 Ganzrationale Funktion (Polynomfunktion)"
   ]
  },
  {
   "cell_type": "markdown",
   "metadata": {
    "slideshow": {
     "slide_type": "-"
    }
   },
   "source": [
    "\\begin{equation}f(x) = a_m x^m + a_{m-1}x^{m-1} + \\dots + a_2 x^2 +a_1 x + a_0\\end{equation}\n",
    "\n",
    "**Warum?**\n",
    "\n",
    "* Einfache und sehr \"flexible\" Funktionenklasse\n",
    "* Wird häufig zur Interpolation von Datenpunkten oder zur Approximation von Funktionen benutzt (Taylorreihe)\n",
    "\n",
    "#### Weiterführendes\n",
    "\n",
    "* L. Papula: Mathematik für Ingen. und Naturwissenschaftler 1\n",
    "&rightarrow; _Abschnitt III.5_\n",
    "* https://www.geogebra.org/m/GZ9WByqd\n"
   ]
  },
  {
   "cell_type": "markdown",
   "metadata": {
    "slideshow": {
     "slide_type": "slide"
    }
   },
   "source": [
    "## 2.3.2 Gebrochenrationale Funktion"
   ]
  },
  {
   "cell_type": "markdown",
   "metadata": {
    "slideshow": {
     "slide_type": "-"
    }
   },
   "source": [
    "\\begin{equation}f(x) = \\frac{a_m x^m + \\dots  + a_1 x + a_0}{b_n x^n + \\dots + b_1 x + b_0}\\end{equation}\n",
    "\n",
    "#### Literatur\n",
    "\n",
    "L. Papula: Mathematik für Ingen. und Naturwissenschaftler 1\n",
    "&rightarrow; _Abschnitt III.6_"
   ]
  },
  {
   "cell_type": "code",
   "execution_count": null,
   "metadata": {},
   "outputs": [],
   "source": []
  }
 ],
 "metadata": {
  "celltoolbar": "Slideshow",
  "kernelspec": {
   "display_name": "Python 3 (ipykernel)",
   "language": "python",
   "name": "python3"
  },
  "language_info": {
   "codemirror_mode": {
    "name": "ipython",
    "version": 3
   },
   "file_extension": ".py",
   "mimetype": "text/x-python",
   "name": "python",
   "nbconvert_exporter": "python",
   "pygments_lexer": "ipython3",
   "version": "3.8.10"
  }
 },
 "nbformat": 4,
 "nbformat_minor": 2
}
