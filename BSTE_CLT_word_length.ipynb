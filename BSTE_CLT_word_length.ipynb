{
 "cells": [
  {
   "cell_type": "markdown",
   "metadata": {},
   "source": [
    "# Demonstration of Central Limit Theorm (CLT) with distribution of word length in a text\n",
    "\n",
    "author: S Sauer (SIS)"
   ]
  },
  {
   "cell_type": "markdown",
   "metadata": {},
   "source": [
    "### 1. Import libraries"
   ]
  },
  {
   "cell_type": "code",
   "execution_count": 2,
   "metadata": {},
   "outputs": [],
   "source": [
    "import numpy as np  # for basic math and random number generation\n",
    "import matplotlib.pyplot as plt # for plotting\n",
    "import wikipedia # for parsing wikipedia"
   ]
  },
  {
   "cell_type": "markdown",
   "metadata": {},
   "source": [
    "### 2. Get some plain text from wikipedia"
   ]
  },
  {
   "cell_type": "code",
   "execution_count": 3,
   "metadata": {},
   "outputs": [
    {
     "name": "stdout",
     "output_type": "stream",
     "text": [
      "Wiki page: Biotechnology https://en.wikipedia.org/wiki/Biotechnology\n",
      "Biotechnology is \"the integration of natural sciences and engineering sciences in order to achieve t\n",
      "...\n",
      "ce systems analysis, and technologies associated with conversion or production in the field of Food.\n"
     ]
    }
   ],
   "source": [
    "article = \"Biotechnology\"\n",
    "text = wikipedia.page(article).content\n",
    "print('Wiki page:', article, wikipedia.page(article).url)\n",
    "\n",
    "# print first and last 100 characters\n",
    "print(text[:100])\n",
    "print('...')\n",
    "print(text[-100:])"
   ]
  },
  {
   "cell_type": "markdown",
   "metadata": {},
   "source": [
    "### 3. Compute word length distribution of the article"
   ]
  },
  {
   "cell_type": "code",
   "execution_count": 4,
   "metadata": {},
   "outputs": [
    {
     "name": "stdout",
     "output_type": "stream",
     "text": [
      "No. of words is 3879\n",
      "Longest word is 'screening).\n",
      "\n",
      "Pharmacogenomics'\n"
     ]
    }
   ],
   "source": [
    "words = text.split(' ')\n",
    "lengths = [len(w) for w in words]\n",
    "\n",
    "print(\"No. of words is {}\".format(len(words)))\n",
    "print(\"Longest word is \\'{}\\'\".format(words[np.argmax(lengths)]))"
   ]
  },
  {
   "cell_type": "code",
   "execution_count": 5,
   "metadata": {},
   "outputs": [
    {
     "data": {
      "text/plain": [
       "Text(0, 0.5, 'Absolute frequency')"
      ]
     },
     "execution_count": 5,
     "metadata": {},
     "output_type": "execute_result"
    },
    {
     "data": {
      "image/png": "[encoded data removed]",
      "text/plain": [
       "<Figure size 432x288 with 1 Axes>"
      ]
     },
     "metadata": {
      "needs_background": "light"
     },
     "output_type": "display_data"
    }
   ],
   "source": [
    "plt.hist(lengths, bins=np.arange(0,np.max(lengths)))\n",
    "plt.title('Frequencies of word lengths in text')\n",
    "plt.xlabel('Word length')\n",
    "plt.ylabel('Absolute frequency')"
   ]
  },
  {
   "cell_type": "markdown",
   "metadata": {},
   "source": [
    "### 4. Mean word length in batch of $M$ consecutive words"
   ]
  },
  {
   "cell_type": "code",
   "execution_count": 6,
   "metadata": {},
   "outputs": [],
   "source": [
    "M = [10, 20, 30] # batch size\n",
    "means = list()\n",
    "for m in M:\n",
    "    n_batches = int(len(words)/m)  # no. of batches\n",
    "    means.append([np.mean(lengths[n*m:(n+1)*m]) for n in range(n_batches)])\n"
   ]
  },
  {
   "cell_type": "markdown",
   "metadata": {},
   "source": [
    "### 5. Plot distribution of mean word length"
   ]
  },
  {
   "cell_type": "code",
   "execution_count": 7,
   "metadata": {},
   "outputs": [
    {
     "data": {
      "text/plain": [
       "<matplotlib.legend.Legend at 0x11130fc40>"
      ]
     },
     "execution_count": 7,
     "metadata": {},
     "output_type": "execute_result"
    },
    {
     "data": {
      "image/png": "[encoded data removed]",
      "text/plain": [
       "<Figure size 432x288 with 1 Axes>"
      ]
     },
     "metadata": {
      "needs_background": "light"
     },
     "output_type": "display_data"
    }
   ],
   "source": [
    "plt.hist(means, density = True, bins=20)\n",
    "plt.title('Histogram of mean word length of batch of words')\n",
    "plt.xlabel('Mean word length')\n",
    "plt.ylabel('Frequency density')\n",
    "plt.legend(['Batch size {}'.format(m) for m in M])"
   ]
  }
 ],
 "metadata": {
  "interpreter": {
   "hash": "3abb1ecb1fe87badc8cc221464719852f3f4d80d89cb7ca26d60d1b2554257b1"
  },
  "kernelspec": {
   "display_name": "Python 3.10.4 ('BSTE')",
   "language": "python",
   "name": "python3"
  },
  "language_info": {
   "codemirror_mode": {
    "name": "ipython",
    "version": 3
   },
   "file_extension": ".py",
   "mimetype": "text/x-python",
   "name": "python",
   "nbconvert_exporter": "python",
   "pygments_lexer": "ipython3",
   "version": "3.10.4"
  }
 },
 "nbformat": 4,
 "nbformat_minor": 2
}
